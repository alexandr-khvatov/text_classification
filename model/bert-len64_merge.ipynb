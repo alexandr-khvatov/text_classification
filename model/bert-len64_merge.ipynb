{
  "nbformat": 4,
  "nbformat_minor": 0,
  "metadata": {
    "colab": {
      "provenance": [],
      "collapsed_sections": [
        "OUpxqzjkUhft",
        "cNzST4-OU01f"
      ],
      "authorship_tag": "ABX9TyNvPtu86y2tRh8tsV/I6QFF",
      "include_colab_link": true
    },
    "kernelspec": {
      "name": "python3",
      "display_name": "Python 3"
    },
    "language_info": {
      "name": "python"
    },
    "accelerator": "GPU",
    "gpuClass": "standard"
  },
  "cells": [
    {
      "cell_type": "markdown",
      "metadata": {
        "id": "view-in-github",
        "colab_type": "text"
      },
      "source": [
        "<a href=\"https://colab.research.google.com/github/alexandr-khvatov/text_classification/blob/main/model/bert-len64_merge.ipynb\" target=\"_parent\"><img src=\"https://colab.research.google.com/assets/colab-badge.svg\" alt=\"Open In Colab\"/></a>"
      ]
    },
    {
      "cell_type": "code",
      "execution_count": 1,
      "metadata": {
        "id": "wPqRD3X8Qwmw"
      },
      "outputs": [],
      "source": [
        "!pip install transformers --quiet\n",
        "!pip install wget --quiet"
      ]
    },
    {
      "cell_type": "markdown",
      "source": [
        "# Create Dataset"
      ],
      "metadata": {
        "id": "OUpxqzjkUhft"
      }
    },
    {
      "cell_type": "code",
      "source": [
        "import torch\n",
        "from torch.utils.data import Dataset\n",
        "class ToxicDataset(Dataset):\n",
        "\n",
        "  def __init__(self, texts, targets, tokenizer, max_len=512):\n",
        "    self.texts = texts\n",
        "    self.targets = targets\n",
        "    self.tokenizer = tokenizer\n",
        "    self.max_len = max_len\n",
        "\n",
        "  def __len__(self):\n",
        "    return len(self.texts)\n",
        "\n",
        "  def __getitem__(self, idx):\n",
        "    text = str(self.texts[idx])\n",
        "    target = self.targets[idx]\n",
        "\n",
        "# Returns a dictionary containing the encoded sequence or sequence pair\n",
        "# and additional information: the mask for sequence classification \n",
        "# and the overflowing elements if a max_length is specified.\n",
        "    encoding = self.tokenizer.encode_plus(\n",
        "        text,\n",
        "        add_special_tokens=True,\n",
        "        max_length=self.max_len,\n",
        "        return_token_type_ids=False,\n",
        "        padding='max_length',\n",
        "        return_attention_mask=True,\n",
        "        return_tensors='pt',\n",
        "        truncation=True\n",
        "    )\n",
        "\n",
        "    return {\n",
        "      'text': text,\n",
        "      'input_ids': encoding['input_ids'].flatten(),\n",
        "      'attention_mask': encoding['attention_mask'].flatten(),\n",
        "      'targets': torch.tensor(target, dtype=torch.long)\n",
        "    }"
      ],
      "metadata": {
        "id": "eXj_gFNdRG6L"
      },
      "execution_count": 2,
      "outputs": []
    },
    {
      "cell_type": "markdown",
      "source": [
        "# Print metrics"
      ],
      "metadata": {
        "id": "cNzST4-OU01f"
      }
    },
    {
      "cell_type": "code",
      "source": [
        "import time\n",
        "import datetime\n",
        "\n",
        "def format_time(elapsed):\n",
        "    '''\n",
        "    Takes a time in seconds and returns a string hh:mm:ss\n",
        "    '''\n",
        "    # Round to the nearest second.\n",
        "    elapsed_rounded = int(round((elapsed)))\n",
        "    \n",
        "    # Format as hh:mm:ss\n",
        "    return str(datetime.timedelta(seconds=elapsed_rounded))"
      ],
      "metadata": {
        "id": "EMEqKCkoe5QK"
      },
      "execution_count": 3,
      "outputs": []
    },
    {
      "cell_type": "code",
      "source": [
        "from IPython.display import display\n",
        "import pandas as pd\n",
        "\n",
        "def print_stistics(training_stats,head=5):\n",
        "        # Display floats with two decimal places.\n",
        "        pd.set_option('display.precision', 2)\n",
        "\n",
        "        # Create a DataFrame from our training statistics.\n",
        "        df_stats = pd.DataFrame(data=training_stats)\n",
        "\n",
        "        # Use the 'epoch' as the row index.\n",
        "        df_stats = df_stats.set_index('epoch')\n",
        "\n",
        "        # A hack to force the column headers to wrap.\n",
        "        #df = df.style.set_table_styles([dict(selector=\"th\",props=[('max-width', '70px')])])\n",
        "\n",
        "        # Display the table.\n",
        "        display(df_stats)"
      ],
      "metadata": {
        "id": "68y0CdNimJTu"
      },
      "execution_count": 4,
      "outputs": []
    },
    {
      "cell_type": "markdown",
      "source": [
        "**Метрики**\n",
        "precision, recall, accuracy, f1\n",
        "\n"
      ],
      "metadata": {
        "id": "t9iZ37CQOrub"
      }
    },
    {
      "cell_type": "code",
      "source": [
        "from sklearn.metrics import precision_score, recall_score, accuracy_score, f1_score\n",
        "from sklearn.metrics import classification_report\n",
        "def print_metrics(labels, predictions):\n",
        "    \n",
        "  print(\"Accuracy: {0:.2f} %\".format(100 * accuracy_score(labels, predictions)))\n",
        "  print(\"Recall: {0:.2f} %\".format(100 * recall_score(labels, predictions)))\n",
        "  print(\"Precision: {0:.2f} %\".format(100 * precision_score(labels, predictions)))\n",
        "  print(\"F1-score: {0:.2f} % \\n\".format(100 * f1_score(labels, predictions))) \n",
        "  print(classification_report(labels, predictions,digits=4))"
      ],
      "metadata": {
        "id": "vldMbwGbOK08"
      },
      "execution_count": 5,
      "outputs": []
    },
    {
      "cell_type": "markdown",
      "source": [
        "**Матрица ошибок**"
      ],
      "metadata": {
        "id": "2vNTfQd9N-Z5"
      }
    },
    {
      "cell_type": "code",
      "source": [
        "# from sklearn.metrics import precision_score, recall_score, accuracy_score, f1_score\n",
        "import seaborn as sns\n",
        "from sklearn.metrics import confusion_matrix\n",
        "import matplotlib.pyplot as plt\n",
        "from sklearn.metrics import ConfusionMatrixDisplay\n",
        "\n",
        "def plot_cm(labels, predictions, p=0.5):\n",
        "  print(type(labels)) \n",
        "  print(type(predictions))   \n",
        "  cm = confusion_matrix(labels, predictions)\n",
        "  plt.rcParams.update({'font.size': 22})\n",
        "  plt.figure(figsize=(7,7))\n",
        "  sns.heatmap(cm, annot=True, fmt=\"d\",cmap='PuBu')\n",
        "  plt.title('Матрица ошибок')\n",
        "  plt.ylabel('Актуальное значение')\n",
        "  plt.xlabel('Прогнозируемое значение')\n",
        "#   print(\"Accuracy: {0:.2f} %\".format(100 * accuracy_score(labels, predictions)))\n",
        "#   print(\"Recall: {0:.2f} %\".format(100 * recall_score(labels, predictions)))\n",
        "#   print(\"Precision: {0:.2f} %\".format(100 * precision_score(labels, predictions)))\n",
        "#   print(\"F1-score: {0:.2f} % \\n\".format(100 * f1_score(labels, predictions))) \n",
        "  print_metrics(labels, predictions)\n",
        "  print('True Negatives: ', cm[0][0])\n",
        "  print('False Positives: ', cm[0][1])\n",
        "  print('False Negatives: ', cm[1][0])\n",
        "  print('True Positives: ', cm[1][1])\n",
        "  plt.show()"
      ],
      "metadata": {
        "id": "qrWUs1dkOBq_"
      },
      "execution_count": 6,
      "outputs": []
    },
    {
      "cell_type": "markdown",
      "source": [
        "**ROC - кривая**"
      ],
      "metadata": {
        "id": "FmBlRMXYM_9x"
      }
    },
    {
      "cell_type": "code",
      "source": [
        "from sklearn.metrics import roc_curve, auc\n",
        "from sklearn.metrics import roc_auc_score\n",
        "\n",
        "\n",
        "def plot_roc(y_test,predictions_test):\n",
        "#   print('рассчитываем ROC AUC')\n",
        "#   print(predictions_test)\n",
        "#   print(\"y_test\")\n",
        "#   print(y_test)\n",
        "  # рассчитываем ROC AUC\n",
        "  lr_auc = roc_auc_score(y_test, predictions_test)\n",
        "  print(': ROC AUC=%.3f' % (lr_auc))\n",
        "  # рассчитываем roc-кривую\n",
        "  fpr, tpr, treshold = roc_curve(y_test, predictions_test)\n",
        "  roc_auc = auc(fpr, tpr)\n",
        "  # строим график\n",
        "\n",
        "  # размеры шрифта\n",
        "  SMALL_SIZE = 10\n",
        "  MEDIUM_SIZE = 14\n",
        "  BIGGER_SIZE = 16\n",
        "\n",
        "  plt.rc('font', size=SMALL_SIZE)          # controls default text sizes\n",
        "  plt.rc('axes', titlesize=BIGGER_SIZE)     # fontsize of the axes title\n",
        "  plt.rc('axes', labelsize=MEDIUM_SIZE)    # fontsize of the x and y labels\n",
        "  plt.rc('xtick', labelsize=SMALL_SIZE)    # fontsize of the tick labels\n",
        "  plt.rc('ytick', labelsize=SMALL_SIZE)    # fontsize of the tick labels\n",
        "  plt.rc('legend', fontsize=SMALL_SIZE)    # legend fontsize\n",
        "  plt.rc('figure', titlesize=BIGGER_SIZE)  # fontsize of the figure title\n",
        "  plt.plot(fpr, tpr, color='darkorange',\n",
        "          label='ROC кривая (area = %0.3f)' % roc_auc)\n",
        "  plt.plot([0, 1], [0, 1], color='navy', linestyle='--')\n",
        "  plt.xlim([0.0, 1.0])\n",
        "  plt.ylim([0.0, 1.05])\n",
        "  plt.xlabel('False Positive Rate')\n",
        "  plt.ylabel('True Positive Rate')\n",
        "  plt.title('ROC-кривая')\n",
        "  plt.legend(loc=\"lower right\",)\n",
        "  plt.show()"
      ],
      "metadata": {
        "id": "rWiAneTcM-9b"
      },
      "execution_count": 7,
      "outputs": []
    },
    {
      "cell_type": "code",
      "source": [
        "import matplotlib.pyplot as plt\n",
        "\n",
        "import seaborn as sns\n",
        "\n",
        "def plot_train(training_stats):\n",
        "        # Use plot styling from seaborn.\n",
        "        sns.set(style='darkgrid')\n",
        "\n",
        "        # Increase the plot size and font size.\n",
        "        sns.set(font_scale=1.5)\n",
        "        plt.rcParams[\"figure.figsize\"] = (12,6)\n",
        "\n",
        "        df_stats = pd.DataFrame(data=training_stats)\n",
        "\n",
        "        # Use the 'epoch' as the row index.\n",
        "        df_stats = df_stats.set_index('epoch')\n",
        "\n",
        "        # Plot the learning curve.\n",
        "        plt.plot(df_stats['Training Loss'], 'b-o', label=\"Training\")\n",
        "        plt.plot(df_stats['Valid. Loss'], 'g-o', label=\"Validation\")\n",
        "\n",
        "        # Label the plot.\n",
        "        plt.title(\"Training & Validation Loss\")\n",
        "        plt.xlabel(\"Epoch\")\n",
        "        plt.ylabel(\"Loss\")\n",
        "        plt.legend()\n",
        "        plt.xticks([1, 2, 3, 4,5])\n",
        "\n",
        "        plt.show()"
      ],
      "metadata": {
        "id": "HqX-LxuWm-uj"
      },
      "execution_count": 8,
      "outputs": []
    },
    {
      "cell_type": "markdown",
      "source": [
        "# Bert fine-tune"
      ],
      "metadata": {
        "id": "iD4d5ueuVA4D"
      }
    },
    {
      "cell_type": "code",
      "source": [
        "from tqdm import tqdm\n",
        "import numpy as np\n",
        "import torch\n",
        "from transformers import BertTokenizer, BertForSequenceClassification\n",
        "from torch.utils.data import Dataset, DataLoader\n",
        "from transformers import AdamW, get_linear_schedule_with_warmup\n",
        "import torch.nn.functional as F\n",
        "\n",
        "class BertClassifier:\n",
        "\n",
        "    def __init__(self, model_path, tokenizer_path, n_classes=2, epochs=5, model_save_path='./trainer',max_len=64):\n",
        "            self.model = BertForSequenceClassification.from_pretrained(model_path)\n",
        "            self.tokenizer = BertTokenizer.from_pretrained(tokenizer_path)\n",
        "            self.device = torch.device(\"cuda:0\" if torch.cuda.is_available() else \"cpu\")\n",
        "            self.model_save_path=model_save_path\n",
        "            self.max_len = max_len\n",
        "            self.epochs = epochs\n",
        "            self.out_features = self.model.bert.encoder.layer[1].output.dense.out_features\n",
        "            self.model.classifier = torch.nn.Linear(self.out_features, n_classes)\n",
        "            self.model.to(self.device)\n",
        "\n",
        "    def preparation(self, X_train, y_train, X_valid, y_valid,X_test,y_test,batch_size = 32):\n",
        "        \n",
        "        # Create the DataLoader for Training set\n",
        "        self.train_set = ToxicDataset(X_train, y_train, self.tokenizer,max_len=self.max_len)\n",
        "        self.train_loader = DataLoader(self.train_set, batch_size=batch_size, shuffle=True)\n",
        "\n",
        "        # Create the DataLoader for Val set\n",
        "        self.valid_set = ToxicDataset(X_valid, y_valid, self.tokenizer,max_len=self.max_len)\n",
        "        self.valid_loader = DataLoader(self.valid_set, batch_size= batch_size, shuffle=True)\n",
        "\n",
        "        # Create the DataLoader for Test set\n",
        "        self.test_set = ToxicDataset(X_test, y_test, self.tokenizer,max_len=self.max_len)\n",
        "        self.test_loader = DataLoader(self.test_set, batch_size= batch_size, shuffle=True)\n",
        "\n",
        "        # helpers initialization\n",
        "        self.optimizer = AdamW(self.model.parameters(), lr=2e-5, correct_bias=False)\n",
        "        \n",
        "        self.scheduler = get_linear_schedule_with_warmup(\n",
        "                self.optimizer,\n",
        "                num_warmup_steps=500,\n",
        "                num_training_steps=len(self.train_loader) * self.epochs\n",
        "            )\n",
        "        self.loss_fn = torch.nn.CrossEntropyLoss().to(self.device)\n",
        "    \n",
        "    def fit(self):\n",
        "\n",
        "        t0 = time.time()\n",
        "\n",
        "        self.model = self.model.train()\n",
        "        losses = []\n",
        "        correct_predictions = 0\n",
        "\n",
        "        for data in tqdm(self.train_loader):\n",
        "            input_ids = data[\"input_ids\"].to(self.device)\n",
        "            attention_mask = data[\"attention_mask\"].to(self.device)\n",
        "            targets = data[\"targets\"].to(self.device)\n",
        "\n",
        "            outputs = self.model(\n",
        "                input_ids=input_ids,\n",
        "                attention_mask=attention_mask\n",
        "                )\n",
        "\n",
        "            preds = torch.argmax(outputs.logits, dim=1)\n",
        "            loss = self.loss_fn(outputs.logits, targets)\n",
        "\n",
        "            correct_predictions += torch.sum(preds == targets)\n",
        "\n",
        "            losses.append(loss.item())\n",
        "            \n",
        "            loss.backward()\n",
        "            torch.nn.utils.clip_grad_norm_(self.model.parameters(), max_norm=1.0)\n",
        "            self.optimizer.step()\n",
        "            self.scheduler.step()\n",
        "            self.optimizer.zero_grad()\n",
        "\n",
        "        train_acc = correct_predictions.double() / len(self.train_set)\n",
        "        train_loss = np.mean(losses)\n",
        "\n",
        "        # Measure how long this epoch took.\n",
        "        training_time = format_time(time.time() - t0)\n",
        "        print(\"\")\n",
        "        print(\"  Average training loss: {0:.2f}\".format(train_loss))\n",
        "        print(\"  Acc training: {0:.2f}\".format(train_acc))\n",
        "        print(\"  Training epcoh took: {:}\".format(training_time))\n",
        "\n",
        "        return train_acc, train_loss\n",
        "\n",
        "    def eval(self):\n",
        "        \n",
        "        self.model = self.model.eval()\n",
        "        losses = []\n",
        "        correct_predictions = 0\n",
        "        all_logits = []\n",
        "        all_targets = []\n",
        "        with torch.no_grad():\n",
        "            for batch in self.valid_loader:\n",
        "                input_ids = batch[\"input_ids\"].to(self.device)\n",
        "                attention_mask = batch[\"attention_mask\"].to(self.device)\n",
        "                targets = batch[\"targets\"].to(self.device)\n",
        "\n",
        "                outputs = self.model(\n",
        "                    input_ids=input_ids,\n",
        "                    attention_mask=attention_mask\n",
        "                    )\n",
        "                \n",
        "                all_logits.append(outputs.logits)\n",
        "                all_targets.append(targets)\n",
        "\n",
        "                preds = torch.argmax(outputs.logits, dim=1)\n",
        "                loss = self.loss_fn(outputs.logits, targets)\n",
        "                correct_predictions += torch.sum(preds == targets)\n",
        "                losses.append(loss.item())\n",
        "        # print('all_targets')\n",
        "        # print(all_targets)\n",
        "        # print('all_logits')\n",
        "        # print(all_logits)\n",
        "        all_targets= torch.cat(all_targets, dim=0).cpu().numpy()\n",
        "        all_logits = torch.cat(all_logits, dim=0)\n",
        "        # print('torch.cat(all_logits, dim=0)')\n",
        "        # print(all_logits)\n",
        "        probs = torch.argmax(all_logits, dim=1).cpu().numpy()\n",
        "        # print(probs)\n",
        "        # print('probs')\n",
        "        print()\n",
        "        print('VALID:')\n",
        "        print()\n",
        "        print_metrics(all_targets, probs)\n",
        "        \n",
        "        val_acc = correct_predictions.double() / len(self.valid_set)\n",
        "        val_loss = np.mean(losses)\n",
        "        return val_acc, val_loss\n",
        "\n",
        "    def train(self):\n",
        "        training_stats = []\n",
        "        best_accuracy = 0\n",
        "\n",
        "        for epoch in range(self.epochs):\n",
        "            print(f'Epoch {epoch + 1}/{self.epochs}')\n",
        "            train_acc, train_loss = self.fit()\n",
        "            print(f'Train loss {train_loss} accuracy {train_acc}')\n",
        "\n",
        "            val_acc, val_loss = self.eval()\n",
        "            print(f'Val loss {val_loss} accuracy {val_acc}')\n",
        "            print('-' * 10)\n",
        "\n",
        "            if val_acc > best_accuracy:\n",
        "                torch.save(self.model, self.model_save_path)\n",
        "                best_accuracy = val_acc\n",
        "\n",
        "            ##### save statistics\n",
        "\n",
        "            training_stats.append(\n",
        "                {\n",
        "                    'epoch': (epoch+ 1)*1,\n",
        "                    'Training Loss': train_loss*1.0,\n",
        "                    'Valid. Loss': val_loss*1.0,\n",
        "                    'Training Accur': train_acc.item(),\n",
        "                    'Valid. Accur.': val_acc.item(),\n",
        "                }\n",
        "            )\n",
        "\n",
        "        print_stistics(training_stats)\n",
        "        plot_train(training_stats)\n",
        "        self.model = torch.load(self.model_save_path)\n",
        "    \n",
        "    def test(self):\n",
        "        self.model = self.model.eval()\n",
        "        losses = []\n",
        "        correct_predictions = 0\n",
        "        all_logits = []\n",
        "        all_targets = []\n",
        "        with torch.no_grad():\n",
        "            for batch in self.test_loader:\n",
        "                input_ids = batch[\"input_ids\"].to(self.device)\n",
        "                attention_mask = batch[\"attention_mask\"].to(self.device)\n",
        "                targets = batch[\"targets\"].to(self.device)\n",
        "\n",
        "                outputs = self.model(\n",
        "                    input_ids=input_ids,\n",
        "                    attention_mask=attention_mask\n",
        "                    )\n",
        "                \n",
        "                # _debug(outputs) # debug print \n",
        "\n",
        "                all_logits.append(outputs.logits)\n",
        "                all_targets.append(targets)\n",
        "\n",
        "                preds = torch.argmax(outputs.logits, dim=1)\n",
        "                loss = self.loss_fn(outputs.logits, targets)\n",
        "                correct_predictions += torch.sum(preds == targets)\n",
        "                losses.append(loss.item())\n",
        "        # print('all_logits')\n",
        "        # print(all_logits)\n",
        "        all_logits = torch.cat(all_logits, dim=0)\n",
        "        all_targets = torch.cat(all_targets, dim=0).cpu().numpy()\n",
        "        # print('После torch.cat(all_logits, dim=0)')\n",
        "        # print(all_logits)\n",
        "        probs = F.softmax(all_logits, dim=1).cpu().numpy()\n",
        "        # print('probs')\n",
        "        # print(probs)\n",
        "        print('TEST:')\n",
        "        print()\n",
        "        threshold=0.5\n",
        "        _preds = np.where(probs[:, 1] <threshold,0,1)\n",
        "        plot_cm(all_targets, _preds)\n",
        "        plot_roc(all_targets, probs[:, 1])\n",
        "        \n",
        "        val_acc = correct_predictions.double() / len(self.test_set)\n",
        "        val_loss = np.mean(losses)\n",
        "        return val_acc, val_loss\n",
        "\n",
        "\n",
        "    def predict(self, text):\n",
        "        encoding = self.tokenizer.encode_plus(\n",
        "            text,\n",
        "            add_special_tokens=True,\n",
        "            max_length=self.max_len,\n",
        "            return_token_type_ids=False,\n",
        "            truncation=True,\n",
        "            padding='max_length',\n",
        "            return_attention_mask=True,\n",
        "            return_tensors='pt',\n",
        "        )\n",
        "        \n",
        "        out = {\n",
        "              'text': text,\n",
        "              'input_ids': encoding['input_ids'].flatten(),\n",
        "              'attention_mask': encoding['attention_mask'].flatten()\n",
        "          }\n",
        "        \n",
        "        input_ids = out[\"input_ids\"].to(self.device)\n",
        "        attention_mask = out[\"attention_mask\"].to(self.device)\n",
        "        \n",
        "        outputs = self.model(\n",
        "            input_ids=input_ids.unsqueeze(0),\n",
        "            attention_mask=attention_mask.unsqueeze(0)\n",
        "        )\n",
        "        \n",
        "        prediction = torch.argmax(outputs.logits, dim=1).cpu().numpy()[0]\n",
        "\n",
        "        return prediction\n"
      ],
      "metadata": {
        "id": "6m7k7ODOT-5j"
      },
      "execution_count": 9,
      "outputs": []
    },
    {
      "cell_type": "markdown",
      "source": [
        "УДАЛИТЬ -> отладка"
      ],
      "metadata": {
        "id": "Mqp1J-TSdUvk"
      }
    },
    {
      "cell_type": "code",
      "source": [
        "def _debug(outputs):\n",
        "    print('outputs')\n",
        "    print(outputs)\n",
        "    print()\n",
        "    print('outputs.logits')\n",
        "    print(outputs.logits)\n",
        "    print()\n",
        "    print('torch.argmax(outputs.logits, dim=1).cpu().numpy()')\n",
        "    print(torch.argmax(outputs.logits, dim=1).cpu().numpy())\n",
        "    print()\n",
        "    print('torch.argmax(outputs.logits, dim=1).cpu().numpy()[0]')\n",
        "    print(torch.argmax(outputs.logits, dim=1).cpu().numpy()[0])\n",
        "    ii=100\n",
        "    print('F.softmax(outputs.logits, dim=1).cpu().numpy()')\n",
        "    print(F.softmax(outputs.logits, dim=1).cpu().numpy())\n",
        "    print()\n",
        "    print('label=1,F.softmax(outputs.logits, dim=1).cpu().numpy()[0][1]')\n",
        "    print(F.softmax(outputs.logits, dim=1).cpu().numpy()[0][1])\n",
        "    print()\n",
        "    print('F.sigmoid(outputs.logits).cpu().numpy()')\n",
        "    print(F.sigmoid(outputs.logits).cpu().numpy())\n",
        "    print()\n",
        "    print('np.max(F.softmax(outputs.logits, dim=1).cpu().numpy()[0])')\n",
        "    print(np.max(F.softmax(outputs.logits, dim=1).cpu().numpy()[0]))\n",
        "    # raise ValueError(\"Real error\")\n",
        "    print('prediction')"
      ],
      "metadata": {
        "id": "V_xi8v6Ddct0"
      },
      "execution_count": 10,
      "outputs": []
    },
    {
      "cell_type": "markdown",
      "source": [
        "# Train, Eval, Test"
      ],
      "metadata": {
        "id": "r6Gh829i7MKi"
      }
    },
    {
      "cell_type": "markdown",
      "source": [
        "**Load dataset**"
      ],
      "metadata": {
        "id": "3Y4VQeyfTUwD"
      }
    },
    {
      "cell_type": "code",
      "source": [
        "import wget\n",
        "import os\n",
        "# PATH_CLEANED_DATASET='data_original_RU_2ch.csv'\n",
        "PATH_CLEANED_DATASET='data_original_RU_merge_2ch_and_ok.csv'\n",
        "\n",
        "url = 'https://raw.githubusercontent.com/alexandr-khvatov/text_classification/main/data/'+PATH_CLEANED_DATASET\n",
        "\n",
        "\n",
        "if not os.path.exists(PATH_CLEANED_DATASET):\n",
        "    wget.download(url)"
      ],
      "metadata": {
        "id": "F7EnRSpoTYCg"
      },
      "execution_count": 11,
      "outputs": []
    },
    {
      "cell_type": "markdown",
      "source": [
        "**Split dataset**"
      ],
      "metadata": {
        "id": "TlIkilk_TMx0"
      }
    },
    {
      "cell_type": "code",
      "source": [
        "import pandas as pd\n",
        "import sklearn\n",
        "from sklearn.feature_extraction.text import TfidfVectorizer\n",
        "from sklearn.linear_model import LogisticRegression\n",
        "from sklearn.metrics import precision_score, recall_score, accuracy_score, f1_score\n",
        "from sklearn.model_selection import train_test_split\n",
        "\n",
        "df = pd.read_csv(PATH_CLEANED_DATASET)\n",
        "df=df.astype({'toxic': 'int64'})\n",
        "sentences = df.comment.values\n",
        "labels = df.toxic.values\n",
        "print(len(sentences))\n",
        "X_train, X_test, y_train, y_test = train_test_split(sentences, labels, test_size=.2, random_state=42)   # .15  .2\n",
        "X_test, X_val, y_test, y_val = train_test_split(X_test, y_test, test_size=.5, random_state=42) # .1764705882352941   .25\n",
        "print(X_train.shape)\n",
        "print(X_test.shape)\n",
        "print(X_val.shape)"
      ],
      "metadata": {
        "colab": {
          "base_uri": "https://localhost:8080/"
        },
        "id": "0m8CDFDwTL0N",
        "outputId": "148ecd87-0af1-43ba-f6f1-5366dc83c7d6"
      },
      "execution_count": 12,
      "outputs": [
        {
          "output_type": "stream",
          "name": "stdout",
          "text": [
            "262702\n",
            "(210161,)\n",
            "(26270,)\n",
            "(26271,)\n"
          ]
        }
      ]
    },
    {
      "cell_type": "code",
      "source": [
        "MODEL_PATH = 'cointegrated/rubert-tiny'\n",
        "\n",
        "classifier = BertClassifier(\n",
        "        model_path=MODEL_PATH,\n",
        "        tokenizer_path=MODEL_PATH,\n",
        "        max_len=64,\n",
        "        n_classes=2,\n",
        "        epochs=5,\n",
        "        model_save_path='./trainer'\n",
        ")\n",
        "\n",
        "classifier.preparation(\n",
        "        X_train=X_train,\n",
        "        y_train=y_train,\n",
        "        X_valid=  X_val,\n",
        "        y_valid=  y_val,\n",
        "        X_test=  X_test,\n",
        "        y_test=  y_test,\n",
        "        batch_size=32\n",
        "    )\n",
        "\n",
        "classifier.train()"
      ],
      "metadata": {
        "colab": {
          "base_uri": "https://localhost:8080/",
          "height": 1000
        },
        "id": "0_EHaOjjSKh1",
        "outputId": "723e2785-e5fa-4918-ae1f-cbe924b4f167"
      },
      "execution_count": 13,
      "outputs": [
        {
          "metadata": {
            "tags": null
          },
          "name": "stderr",
          "output_type": "stream",
          "text": [
            "Some weights of the model checkpoint at cointegrated/rubert-tiny were not used when initializing BertForSequenceClassification: ['cls.predictions.bias', 'cls.predictions.decoder.weight', 'cls.predictions.decoder.bias', 'cls.seq_relationship.bias', 'cls.predictions.transform.dense.bias', 'cls.predictions.transform.LayerNorm.weight', 'cls.predictions.transform.dense.weight', 'cls.predictions.transform.LayerNorm.bias', 'cls.seq_relationship.weight']\n",
            "- This IS expected if you are initializing BertForSequenceClassification from the checkpoint of a model trained on another task or with another architecture (e.g. initializing a BertForSequenceClassification model from a BertForPreTraining model).\n",
            "- This IS NOT expected if you are initializing BertForSequenceClassification from the checkpoint of a model that you expect to be exactly identical (initializing a BertForSequenceClassification model from a BertForSequenceClassification model).\n",
            "Some weights of BertForSequenceClassification were not initialized from the model checkpoint at cointegrated/rubert-tiny and are newly initialized: ['classifier.weight', 'classifier.bias']\n",
            "You should probably TRAIN this model on a down-stream task to be able to use it for predictions and inference.\n",
            "/usr/local/lib/python3.9/dist-packages/transformers/optimization.py:391: FutureWarning: This implementation of AdamW is deprecated and will be removed in a future version. Use the PyTorch implementation torch.optim.AdamW instead, or set `no_deprecation_warning=True` to disable this warning\n",
            "  warnings.warn(\n"
          ]
        },
        {
          "metadata": {
            "tags": null
          },
          "name": "stdout",
          "output_type": "stream",
          "text": [
            "Epoch 1/5\n"
          ]
        },
        {
          "metadata": {
            "tags": null
          },
          "name": "stderr",
          "output_type": "stream",
          "text": [
            "100%|██████████| 6568/6568 [03:41<00:00, 29.68it/s]\n"
          ]
        },
        {
          "metadata": {
            "tags": null
          },
          "name": "stdout",
          "output_type": "stream",
          "text": [
            "\n",
            "  Average training loss: 0.18\n",
            "  Acc training: 0.93\n",
            "  Training epcoh took: 0:03:41\n",
            "Train loss 0.176486086415271 accuracy 0.9331512507077907\n",
            "\n",
            "VALID:\n",
            "\n",
            "Accuracy: 95.43 %\n",
            "Recall: 85.80 %\n",
            "Precision: 89.59 %\n",
            "F1-score: 87.65 % \n",
            "\n",
            "              precision    recall  f1-score   support\n",
            "\n",
            "           0     0.9672    0.9768    0.9720     21306\n",
            "           1     0.8959    0.8580    0.8765      4965\n",
            "\n",
            "    accuracy                         0.9543     26271\n",
            "   macro avg     0.9316    0.9174    0.9243     26271\n",
            "weighted avg     0.9538    0.9543    0.9539     26271\n",
            "\n",
            "Val loss 0.12484475395480005 accuracy 0.9543222564805298\n",
            "----------\n",
            "Epoch 2/5\n"
          ]
        },
        {
          "metadata": {
            "tags": null
          },
          "name": "stderr",
          "output_type": "stream",
          "text": [
            "100%|██████████| 6568/6568 [03:37<00:00, 30.24it/s]\n"
          ]
        },
        {
          "metadata": {
            "tags": null
          },
          "name": "stdout",
          "output_type": "stream",
          "text": [
            "\n",
            "  Average training loss: 0.11\n",
            "  Acc training: 0.96\n",
            "  Training epcoh took: 0:03:37\n",
            "Train loss 0.11324318048529197 accuracy 0.9603161385794701\n",
            "\n",
            "VALID:\n",
            "\n",
            "Accuracy: 95.90 %\n",
            "Recall: 89.67 %\n",
            "Precision: 88.77 %\n",
            "F1-score: 89.22 % \n",
            "\n",
            "              precision    recall  f1-score   support\n",
            "\n",
            "           0     0.9759    0.9736    0.9747     21306\n",
            "           1     0.8877    0.8967    0.8922      4965\n",
            "\n",
            "    accuracy                         0.9590     26271\n",
            "   macro avg     0.9318    0.9351    0.9335     26271\n",
            "weighted avg     0.9592    0.9590    0.9591     26271\n",
            "\n",
            "Val loss 0.11987024145178161 accuracy 0.9590422899775418\n",
            "----------\n",
            "Epoch 3/5\n"
          ]
        },
        {
          "metadata": {
            "tags": null
          },
          "name": "stderr",
          "output_type": "stream",
          "text": [
            "100%|██████████| 6568/6568 [03:38<00:00, 30.03it/s]\n"
          ]
        },
        {
          "metadata": {
            "tags": null
          },
          "name": "stdout",
          "output_type": "stream",
          "text": [
            "\n",
            "  Average training loss: 0.10\n",
            "  Acc training: 0.97\n",
            "  Training epcoh took: 0:03:39\n",
            "Train loss 0.09716049242616108 accuracy 0.9670014893343675\n",
            "\n",
            "VALID:\n",
            "\n",
            "Accuracy: 96.29 %\n",
            "Recall: 90.11 %\n",
            "Precision: 90.26 %\n",
            "F1-score: 90.18 % \n",
            "\n",
            "              precision    recall  f1-score   support\n",
            "\n",
            "           0     0.9770    0.9773    0.9771     21306\n",
            "           1     0.9026    0.9011    0.9018      4965\n",
            "\n",
            "    accuracy                         0.9629     26271\n",
            "   macro avg     0.9398    0.9392    0.9395     26271\n",
            "weighted avg     0.9629    0.9629    0.9629     26271\n",
            "\n",
            "Val loss 0.11260150374428354 accuracy 0.9629248981766967\n",
            "----------\n",
            "Epoch 4/5\n"
          ]
        },
        {
          "output_type": "stream",
          "name": "stderr",
          "text": [
            "100%|██████████| 6568/6568 [03:34<00:00, 30.60it/s]\n"
          ]
        },
        {
          "output_type": "stream",
          "name": "stdout",
          "text": [
            "\n",
            "  Average training loss: 0.09\n",
            "  Acc training: 0.97\n",
            "  Training epcoh took: 0:03:35\n",
            "Train loss 0.08676239203244229 accuracy 0.9713172282202692\n",
            "\n",
            "VALID:\n",
            "\n",
            "Accuracy: 96.41 %\n",
            "Recall: 90.07 %\n",
            "Precision: 90.88 %\n",
            "F1-score: 90.47 % \n",
            "\n",
            "              precision    recall  f1-score   support\n",
            "\n",
            "           0     0.9769    0.9789    0.9779     21306\n",
            "           1     0.9088    0.9007    0.9047      4965\n",
            "\n",
            "    accuracy                         0.9641     26271\n",
            "   macro avg     0.9428    0.9398    0.9413     26271\n",
            "weighted avg     0.9640    0.9641    0.9641     26271\n",
            "\n",
            "Val loss 0.11447042244813778 accuracy 0.9641429713372159\n",
            "----------\n",
            "Epoch 5/5\n"
          ]
        },
        {
          "output_type": "stream",
          "name": "stderr",
          "text": [
            "100%|██████████| 6568/6568 [03:33<00:00, 30.82it/s]\n"
          ]
        },
        {
          "output_type": "stream",
          "name": "stdout",
          "text": [
            "\n",
            "  Average training loss: 0.08\n",
            "  Acc training: 0.97\n",
            "  Training epcoh took: 0:03:33\n",
            "Train loss 0.08089048847174751 accuracy 0.9732966630345307\n",
            "\n",
            "VALID:\n",
            "\n",
            "Accuracy: 96.55 %\n",
            "Recall: 90.23 %\n",
            "Precision: 91.39 %\n",
            "F1-score: 90.81 % \n",
            "\n",
            "              precision    recall  f1-score   support\n",
            "\n",
            "           0     0.9773    0.9802    0.9787     21306\n",
            "           1     0.9139    0.9023    0.9081      4965\n",
            "\n",
            "    accuracy                         0.9655     26271\n",
            "   macro avg     0.9456    0.9413    0.9434     26271\n",
            "weighted avg     0.9653    0.9655    0.9654     26271\n",
            "\n",
            "Val loss 0.11420095785340605 accuracy 0.9654752388565339\n",
            "----------\n"
          ]
        },
        {
          "output_type": "display_data",
          "data": {
            "text/plain": [
              "       Training Loss  Valid. Loss  Training Accur  Valid. Accur.\n",
              "epoch                                                           \n",
              "1               0.18         0.12            0.93           0.95\n",
              "2               0.11         0.12            0.96           0.96\n",
              "3               0.10         0.11            0.97           0.96\n",
              "4               0.09         0.11            0.97           0.96\n",
              "5               0.08         0.11            0.97           0.97"
            ],
            "text/html": [
              "\n",
              "  <div id=\"df-3e2c2857-166c-4ec3-9480-d309f1357f77\">\n",
              "    <div class=\"colab-df-container\">\n",
              "      <div>\n",
              "<style scoped>\n",
              "    .dataframe tbody tr th:only-of-type {\n",
              "        vertical-align: middle;\n",
              "    }\n",
              "\n",
              "    .dataframe tbody tr th {\n",
              "        vertical-align: top;\n",
              "    }\n",
              "\n",
              "    .dataframe thead th {\n",
              "        text-align: right;\n",
              "    }\n",
              "</style>\n",
              "<table border=\"1\" class=\"dataframe\">\n",
              "  <thead>\n",
              "    <tr style=\"text-align: right;\">\n",
              "      <th></th>\n",
              "      <th>Training Loss</th>\n",
              "      <th>Valid. Loss</th>\n",
              "      <th>Training Accur</th>\n",
              "      <th>Valid. Accur.</th>\n",
              "    </tr>\n",
              "    <tr>\n",
              "      <th>epoch</th>\n",
              "      <th></th>\n",
              "      <th></th>\n",
              "      <th></th>\n",
              "      <th></th>\n",
              "    </tr>\n",
              "  </thead>\n",
              "  <tbody>\n",
              "    <tr>\n",
              "      <th>1</th>\n",
              "      <td>0.18</td>\n",
              "      <td>0.12</td>\n",
              "      <td>0.93</td>\n",
              "      <td>0.95</td>\n",
              "    </tr>\n",
              "    <tr>\n",
              "      <th>2</th>\n",
              "      <td>0.11</td>\n",
              "      <td>0.12</td>\n",
              "      <td>0.96</td>\n",
              "      <td>0.96</td>\n",
              "    </tr>\n",
              "    <tr>\n",
              "      <th>3</th>\n",
              "      <td>0.10</td>\n",
              "      <td>0.11</td>\n",
              "      <td>0.97</td>\n",
              "      <td>0.96</td>\n",
              "    </tr>\n",
              "    <tr>\n",
              "      <th>4</th>\n",
              "      <td>0.09</td>\n",
              "      <td>0.11</td>\n",
              "      <td>0.97</td>\n",
              "      <td>0.96</td>\n",
              "    </tr>\n",
              "    <tr>\n",
              "      <th>5</th>\n",
              "      <td>0.08</td>\n",
              "      <td>0.11</td>\n",
              "      <td>0.97</td>\n",
              "      <td>0.97</td>\n",
              "    </tr>\n",
              "  </tbody>\n",
              "</table>\n",
              "</div>\n",
              "      <button class=\"colab-df-convert\" onclick=\"convertToInteractive('df-3e2c2857-166c-4ec3-9480-d309f1357f77')\"\n",
              "              title=\"Convert this dataframe to an interactive table.\"\n",
              "              style=\"display:none;\">\n",
              "        \n",
              "  <svg xmlns=\"http://www.w3.org/2000/svg\" height=\"24px\"viewBox=\"0 0 24 24\"\n",
              "       width=\"24px\">\n",
              "    <path d=\"M0 0h24v24H0V0z\" fill=\"none\"/>\n",
              "    <path d=\"M18.56 5.44l.94 2.06.94-2.06 2.06-.94-2.06-.94-.94-2.06-.94 2.06-2.06.94zm-11 1L8.5 8.5l.94-2.06 2.06-.94-2.06-.94L8.5 2.5l-.94 2.06-2.06.94zm10 10l.94 2.06.94-2.06 2.06-.94-2.06-.94-.94-2.06-.94 2.06-2.06.94z\"/><path d=\"M17.41 7.96l-1.37-1.37c-.4-.4-.92-.59-1.43-.59-.52 0-1.04.2-1.43.59L10.3 9.45l-7.72 7.72c-.78.78-.78 2.05 0 2.83L4 21.41c.39.39.9.59 1.41.59.51 0 1.02-.2 1.41-.59l7.78-7.78 2.81-2.81c.8-.78.8-2.07 0-2.86zM5.41 20L4 18.59l7.72-7.72 1.47 1.35L5.41 20z\"/>\n",
              "  </svg>\n",
              "      </button>\n",
              "      \n",
              "  <style>\n",
              "    .colab-df-container {\n",
              "      display:flex;\n",
              "      flex-wrap:wrap;\n",
              "      gap: 12px;\n",
              "    }\n",
              "\n",
              "    .colab-df-convert {\n",
              "      background-color: #E8F0FE;\n",
              "      border: none;\n",
              "      border-radius: 50%;\n",
              "      cursor: pointer;\n",
              "      display: none;\n",
              "      fill: #1967D2;\n",
              "      height: 32px;\n",
              "      padding: 0 0 0 0;\n",
              "      width: 32px;\n",
              "    }\n",
              "\n",
              "    .colab-df-convert:hover {\n",
              "      background-color: #E2EBFA;\n",
              "      box-shadow: 0px 1px 2px rgba(60, 64, 67, 0.3), 0px 1px 3px 1px rgba(60, 64, 67, 0.15);\n",
              "      fill: #174EA6;\n",
              "    }\n",
              "\n",
              "    [theme=dark] .colab-df-convert {\n",
              "      background-color: #3B4455;\n",
              "      fill: #D2E3FC;\n",
              "    }\n",
              "\n",
              "    [theme=dark] .colab-df-convert:hover {\n",
              "      background-color: #434B5C;\n",
              "      box-shadow: 0px 1px 3px 1px rgba(0, 0, 0, 0.15);\n",
              "      filter: drop-shadow(0px 1px 2px rgba(0, 0, 0, 0.3));\n",
              "      fill: #FFFFFF;\n",
              "    }\n",
              "  </style>\n",
              "\n",
              "      <script>\n",
              "        const buttonEl =\n",
              "          document.querySelector('#df-3e2c2857-166c-4ec3-9480-d309f1357f77 button.colab-df-convert');\n",
              "        buttonEl.style.display =\n",
              "          google.colab.kernel.accessAllowed ? 'block' : 'none';\n",
              "\n",
              "        async function convertToInteractive(key) {\n",
              "          const element = document.querySelector('#df-3e2c2857-166c-4ec3-9480-d309f1357f77');\n",
              "          const dataTable =\n",
              "            await google.colab.kernel.invokeFunction('convertToInteractive',\n",
              "                                                     [key], {});\n",
              "          if (!dataTable) return;\n",
              "\n",
              "          const docLinkHtml = 'Like what you see? Visit the ' +\n",
              "            '<a target=\"_blank\" href=https://colab.research.google.com/notebooks/data_table.ipynb>data table notebook</a>'\n",
              "            + ' to learn more about interactive tables.';\n",
              "          element.innerHTML = '';\n",
              "          dataTable['output_type'] = 'display_data';\n",
              "          await google.colab.output.renderOutput(dataTable, element);\n",
              "          const docLink = document.createElement('div');\n",
              "          docLink.innerHTML = docLinkHtml;\n",
              "          element.appendChild(docLink);\n",
              "        }\n",
              "      </script>\n",
              "    </div>\n",
              "  </div>\n",
              "  "
            ]
          },
          "metadata": {}
        },
        {
          "output_type": "display_data",
          "data": {
            "text/plain": [
              "<Figure size 1200x600 with 1 Axes>"
            ],
            "image/png": "[encoded data removed]"
          },
          "metadata": {}
        }
      ]
    },
    {
      "cell_type": "code",
      "source": [
        "classifier.test()"
      ],
      "metadata": {
        "colab": {
          "base_uri": "https://localhost:8080/",
          "height": 1000
        },
        "id": "uk5Cav8CrwCV",
        "outputId": "d7bfe69f-0349-4d02-a6de-077f562c878a"
      },
      "execution_count": 14,
      "outputs": [
        {
          "output_type": "stream",
          "name": "stdout",
          "text": [
            "TEST:\n",
            "\n",
            "<class 'numpy.ndarray'>\n",
            "<class 'numpy.ndarray'>\n",
            "Accuracy: 96.67 %\n",
            "Recall: 91.61 %\n",
            "Precision: 91.11 %\n",
            "F1-score: 91.36 % \n",
            "\n",
            "              precision    recall  f1-score   support\n",
            "\n",
            "           0     0.9800    0.9787    0.9793     21216\n",
            "           1     0.9111    0.9161    0.9136      5054\n",
            "\n",
            "    accuracy                         0.9667     26270\n",
            "   macro avg     0.9455    0.9474    0.9465     26270\n",
            "weighted avg     0.9667    0.9667    0.9667     26270\n",
            "\n",
            "True Negatives:  20764\n",
            "False Positives:  452\n",
            "False Negatives:  424\n",
            "True Positives:  4630\n"
          ]
        },
        {
          "output_type": "display_data",
          "data": {
            "text/plain": [
              "<Figure size 700x700 with 2 Axes>"
            ],
            "image/png": "[encoded data removed]"
          },
          "metadata": {}
        },
        {
          "output_type": "stream",
          "name": "stdout",
          "text": [
            ": ROC AUC=0.990\n"
          ]
        },
        {
          "output_type": "display_data",
          "data": {
            "text/plain": [
              "<Figure size 1200x600 with 1 Axes>"
            ],
            "image/png": "[encoded data removed]"
          },
          "metadata": {}
        },
        {
          "output_type": "execute_result",
          "data": {
            "text/plain": [
              "(tensor(0.9667, device='cuda:0', dtype=torch.float64), 0.10818679495765651)"
            ]
          },
          "metadata": {},
          "execution_count": 14
        }
      ]
    },
    {
      "cell_type": "code",
      "source": [
        "path = './trainer-for-transformers'\n",
        "classifier.model.save_pretrained(path)\n",
        "classifier.tokenizer.save_pretrained(path)"
      ],
      "metadata": {
        "colab": {
          "base_uri": "https://localhost:8080/"
        },
        "id": "nYfrSyv_SQGp",
        "outputId": "beb9f269-5467-4515-9b07-a69aee7b37cc"
      },
      "execution_count": 15,
      "outputs": [
        {
          "output_type": "execute_result",
          "data": {
            "text/plain": [
              "('./trainer-for-transformers/tokenizer_config.json',\n",
              " './trainer-for-transformers/special_tokens_map.json',\n",
              " './trainer-for-transformers/vocab.txt',\n",
              " './trainer-for-transformers/added_tokens.json')"
            ]
          },
          "metadata": {},
          "execution_count": 15
        }
      ]
    },
    {
      "cell_type": "code",
      "source": [
        "AntiInterr=777+0"
      ],
      "metadata": {
        "id": "RFT7wfpSC5g7"
      },
      "execution_count": null,
      "outputs": []
    }
  ]
}